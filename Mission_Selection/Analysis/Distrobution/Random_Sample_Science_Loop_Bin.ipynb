{
 "cells": [
  {
   "cell_type": "markdown",
   "metadata": {},
   "source": [
    "# This implementation of the genetic algorithm randomly samples science missions and bins them\n",
    "\n",
    "This is used to find the mean and standard deviatioin of the possible missions\n",
    "\n",
    "Must be run on: python 3.12.0, SciPy 1.13.1, and numpy 2.0.1"
   ]
  },
  {
   "cell_type": "code",
   "execution_count": null,
   "metadata": {},
   "outputs": [],
   "source": [
    "%reset\n",
    "import numpy as np\n",
    "import csv\n",
    "from scipy.optimize import *\n",
    "import sys\n",
    "import matplotlib.pyplot as plt\n",
    "np.set_printoptions(threshold=sys.maxsize)\n",
    "import datetime\n",
    "from scipy.stats import genpareto"
   ]
  },
  {
   "cell_type": "markdown",
   "metadata": {},
   "source": [
    "# Loads in the analog payloads and the science objective scores"
   ]
  },
  {
   "cell_type": "code",
   "execution_count": 46,
   "metadata": {},
   "outputs": [],
   "source": [
    "#import cell\n",
    "\n",
    "#science\n",
    "science_array = []\n",
    "\n",
    "#take data from experiments csv and convert it to an array\n",
    "with open('Found_Experiments.csv', 'rt') as f:\n",
    "    array_y = csv.reader(f, skipinitialspace=True, quotechar=\"'\")\n",
    "    for line in array_y:\n",
    "        science_array.append(line)\n",
    "#print(science_array)\n",
    "\n",
    "\n",
    "#take data from scores science csv and convert it to an array\n",
    "objectives_score = []\n",
    "with open('Objective_scores.csv', 'rt') as f:\n",
    "    array_x = csv.reader(f, skipinitialspace=True, quotechar=\"'\")\n",
    "    for line in array_x:\n",
    "        objectives_score.append(line)\n"
   ]
  },
  {
   "cell_type": "markdown",
   "metadata": {},
   "source": [
    "# Prepares data from the .csv files and sets parameter values"
   ]
  },
  {
   "cell_type": "code",
   "execution_count": null,
   "metadata": {},
   "outputs": [],
   "source": [
    "#data processing cell\n",
    "\n",
    "#Parse objective data\n",
    "science_array_array_mod = science_array[1:]                                         #cut off title score\n",
    "science_mass_array      = np.asarray([i[-1] for i in science_array_array_mod],float)      #Masses of experiments 0 indexed\n",
    "science_power_array     = np.asarray([i[-2] for i in science_array_array_mod],float)      #power consumption of experiments 0 indexed\n",
    "objective_array_temp    = [np.array(i[1:-2]) for i in science_array_array_mod]  \n",
    "objective_array         = []\n",
    "for i in objective_array_temp:\n",
    "    arr = []\n",
    "    for j in i:\n",
    "        s = j\n",
    "        y = \"\"\n",
    "        for char in s:\n",
    "            if char.isdigit():\n",
    "                y += char\n",
    "        num = int(y)\n",
    "        arr.append(num)\n",
    "    \n",
    "    objective_array.append(arr)\n",
    "objective           = np.array(objectives_score[1:])\n",
    "objective           = np.asarray(objective[0:, 1:],float)\n",
    "objective_matrix    = np.zeros((len(objective_array),len(objective)))\n",
    "for i in range(len(objective_matrix)):\n",
    "    for j in objective_array[i]:\n",
    "        objective_matrix[i][j-1] = 1\n",
    "\n",
    "objective_matrix = np.transpose(objective_matrix) #matrix of shortfalls where the column are a tech and the value (0 or 1) represents of that index of a shortfall is completed\n",
    "\n",
    "objective_Understanding = objective[0:, 1]\n",
    "objective_Humans        = objective[0:, 2]\n",
    "\n",
    "beta = 185 #kg/kW Power to mass ratio\n",
    "max_mass    = 40000 #kg\n",
    "min_mass    = 15000 #kg\n",
    "mass_ratio  =  0.3 #kg"
   ]
  },
  {
   "cell_type": "markdown",
   "metadata": {},
   "source": [
    "# The score function"
   ]
  },
  {
   "cell_type": "code",
   "execution_count": 48,
   "metadata": {},
   "outputs": [],
   "source": [
    "#score function for science\n",
    "\n",
    "def score_science(mission, check_mass=True):\n",
    "    #weights\n",
    "    w1 = 4  #completed_score\n",
    "    w2 = 5  #understand_score\n",
    "    w3 = 7  #human_score\n",
    "\n",
    "    mass_max_science = max_mass*mass_ratio #in kg\n",
    "    mass_min_science = min_mass*mass_ratio #in kg\n",
    "\n",
    "    #Mass check\n",
    "    if check_mass and (science_mass_array.dot(mission) + beta*science_power_array.dot(mission) <= mass_min_science or science_mass_array.dot(mission) + beta*science_power_array.dot(mission) > mass_max_science):\n",
    "        return abs(science_mass_array.dot(mission) + beta*science_power_array.dot(mission))\n",
    "\n",
    "    #normlizers\n",
    "    max_number      = 46       #normalize number score 0-1\n",
    "    max_understand  = 5        #normlize understanding score 0-1\n",
    "    max_human       = 5        #normlize human score 0-1  \n",
    "\n",
    "    #normlize weights to sum to 10\n",
    "    W  = w1+w2+w3\n",
    "    w1 = 10*w1/W\n",
    "    w2 = 10*w2/W\n",
    "    w3 = 10*w3/W\n",
    "\n",
    "    mission                     = mission.astype(int) #Convete to ints\n",
    "    completed                   = np.clip(objective_matrix @ mission, a_min=None, a_max=1) #A objective is either completed or not\n",
    "    completed_number_score      = np.linalg.norm(completed)**2                             #Number of objective completed\n",
    "    normalized_completed        = completed/completed_number_score                         #Normlizes completed array to weight each score\n",
    "\n",
    "    completed_understanding_score   = objective_Understanding @ normalized_completed       #Generates the understanding score\n",
    "    completed_human_score           = objective_Humans   @ normalized_completed            #Generates the human score\n",
    "\n",
    "    #score calculation\n",
    "    score = w1*completed_number_score/max_number + w2*completed_understanding_score/max_understand + w3*completed_human_score/max_human\n",
    "    return -score\n"
   ]
  },
  {
   "cell_type": "markdown",
   "metadata": {},
   "source": [
    "# Setup the number of bins"
   ]
  },
  {
   "cell_type": "code",
   "execution_count": 63,
   "metadata": {},
   "outputs": [],
   "source": [
    "#setup\n",
    "num_bins = 300\n",
    "bins = np.zeros(num_bins)\n",
    "bin_val = np.array([(10/num_bins) + 10*i/num_bins for i in range(num_bins)])\n",
    "legth = len(science_array_array_mod)"
   ]
  },
  {
   "cell_type": "markdown",
   "metadata": {},
   "source": [
    "# Loop through random comboniations"
   ]
  },
  {
   "cell_type": "code",
   "execution_count": null,
   "metadata": {},
   "outputs": [],
   "source": [
    "#loop 3*10^6 10min 33s\n",
    "for i in range(int(36*10**6)):\n",
    "    mission = np.random.choice([0, 1], size=legth, p=[.8, .2])\n",
    "    cur = -score_science(mission)\n",
    "    for i in range(len(bin_val)-1):\n",
    "        if cur <= bin_val[i] and cur > bin_val[i-1]:\n",
    "            bins[i] += 1"
   ]
  },
  {
   "cell_type": "markdown",
   "metadata": {},
   "source": [
    "# Save to a .csv file"
   ]
  },
  {
   "cell_type": "code",
   "execution_count": 71,
   "metadata": {},
   "outputs": [],
   "source": [
    "#csv\n",
    "now = datetime.datetime.now()\n",
    "formatted_time = now.strftime(\"%d-%m-%Y_%H_%M_%S\")\n",
    "#write to csv\n",
    "with open(\"bins_science\" + formatted_time + '.csv', 'w', newline='') as save:\n",
    "    wr = csv.writer(save)\n",
    "    wr.writerow(bin_val)\n",
    "    wr.writerow(bins)"
   ]
  }
 ],
 "metadata": {
  "kernelspec": {
   "display_name": "base",
   "language": "python",
   "name": "python3"
  },
  "language_info": {
   "codemirror_mode": {
    "name": "ipython",
    "version": 3
   },
   "file_extension": ".py",
   "mimetype": "text/x-python",
   "name": "python",
   "nbconvert_exporter": "python",
   "pygments_lexer": "ipython3",
   "version": "3.12.4"
  }
 },
 "nbformat": 4,
 "nbformat_minor": 2
}
