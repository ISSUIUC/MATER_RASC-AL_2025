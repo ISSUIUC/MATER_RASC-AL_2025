{
 "cells": [
  {
   "cell_type": "markdown",
   "metadata": {},
   "source": [
    "# This implementation of the genetic algorithm randomly samples shortfall missions and bins them\n",
    "\n",
    "This is used to find the mean and standard deviatioin of the possible missions\n",
    "\n",
    "Must be run on: python 3.12.0, SciPy 1.13.1, and numpy 2.0.1"
   ]
  },
  {
   "cell_type": "code",
   "execution_count": null,
   "metadata": {},
   "outputs": [],
   "source": [
    "%reset\n",
    "import numpy as np\n",
    "import csv\n",
    "from scipy.optimize import *\n",
    "import sys\n",
    "import matplotlib.pyplot as plt\n",
    "np.set_printoptions(threshold=sys.maxsize)\n",
    "import datetime\n",
    "from scipy.stats import genpareto\n",
    "from sympy import *"
   ]
  },
  {
   "cell_type": "markdown",
   "metadata": {},
   "source": [
    "# Loads in the analog payloads and the shortfalls scores"
   ]
  },
  {
   "cell_type": "code",
   "execution_count": 12,
   "metadata": {},
   "outputs": [],
   "source": [
    "#import cell\n",
    "\n",
    "#tech\n",
    "tech_array = []\n",
    "\n",
    "#take data from tech csv and convert it to an array\n",
    "with open('Found_Technologies.csv', 'rt') as f:\n",
    "    array_x = csv.reader(f, skipinitialspace=True, quotechar=\"'\")\n",
    "    for line in array_x:\n",
    "        tech_array.append(line)\n",
    "\n",
    "\n",
    "#take data from scores tech csv and convert it to an array\n",
    "tech_score = []\n",
    "with open('Shortfalls_scores.csv', 'rt') as f:\n",
    "    array_x = csv.reader(f, skipinitialspace=True, quotechar=\"'\")\n",
    "    for line in array_x:\n",
    "        tech_score.append(line)\n",
    "\n",
    "#print(tech_score)\n",
    "\n"
   ]
  },
  {
   "cell_type": "markdown",
   "metadata": {},
   "source": [
    "# Prepares data from the .csv files and sets parameter values"
   ]
  },
  {
   "cell_type": "code",
   "execution_count": null,
   "metadata": {},
   "outputs": [],
   "source": [
    "#data processing cell\n",
    "\n",
    "#Parse shortfall data \n",
    "tech_array_mod          = tech_array[1:]                                    #cut off title score\n",
    "tech_mass_array         = np.asarray([i[-1] for i in tech_array_mod],float)      #Masses of techs 0 indexed\n",
    "tech_power_array        = np.asarray([i[-2] for i in tech_array_mod],float)      #power consumption of techs 0 indexed\n",
    "shortfall_array_temp    = [np.array(i[1:-2]) for i in tech_array_mod]       \n",
    "shortfall_array         = []\n",
    "for i in shortfall_array_temp:\n",
    "    arr = []\n",
    "    for j in i:\n",
    "        s = j\n",
    "        y = \"\"\n",
    "        for char in s:\n",
    "            if char.isdigit():\n",
    "                y += char\n",
    "        num = int(y)\n",
    "        arr.append(num)\n",
    "    \n",
    "    shortfall_array.append(arr)\n",
    "\n",
    "shortfall           = np.asarray(tech_score[1:],float)\n",
    "shortfall_matrix    = np.zeros((len(shortfall_array),len(shortfall)))\n",
    "for i in range(len(shortfall_matrix)):\n",
    "    for j in shortfall_array[i]:\n",
    "        shortfall_matrix[i][j-1] = 1\n",
    "\n",
    "shortfall_matrix = np.transpose(shortfall_matrix) #matrix of shortfalls where the column are a tech and the value (0 or 1) represents of that index of a shortfall is completed\n",
    "\n",
    "shortfall_integrated    = shortfall[0:, 1]  #Scores from NASA 0 indexed\n",
    "shortfall_consequence   = shortfall[0:, 2]  #Scores from consequence axis 0 indexed\n",
    "shortfall_liklihood     = shortfall[0:, 3]  #Scores from liklihood axis 0 indexed\n",
    "\n",
    "beta = 185 #kg/kW Power to mass ratio\n",
    "max_mass    = 40000 #kg\n",
    "min_mass    = 15000 #kg\n",
    "mass_ratio  =  0.3 #kg"
   ]
  },
  {
   "cell_type": "markdown",
   "metadata": {},
   "source": [
    "# The score function"
   ]
  },
  {
   "cell_type": "code",
   "execution_count": 14,
   "metadata": {},
   "outputs": [],
   "source": [
    "#score function for tech\n",
    "\n",
    "def score_tech(mission, check_mass=True):\n",
    "    #weights\n",
    "    w1 = 2.3  #completed_score\n",
    "    w2 = 7  #integrated_score\n",
    "    w3 = 4  #consequence_score\n",
    "    w4 = 4  #liklihood_score\n",
    "\n",
    "    mass_max_tech = max_mass*(1-mass_ratio) #in kg\n",
    "    mass_min_tech = min_mass*(1-mass_ratio) #in kg\n",
    "\n",
    "    #Mass check\n",
    "    if check_mass and (tech_mass_array.dot(mission) + beta*tech_power_array.dot(mission) <= mass_min_tech or tech_mass_array.dot(mission) + beta*tech_power_array.dot(mission) > mass_max_tech):\n",
    "        return abs(tech_mass_array.dot(mission) + beta*tech_power_array.dot(mission))\n",
    "\n",
    "    #normlizers\n",
    "    max_number      = 93        #normalize number score 0-1 \n",
    "    max_integrated  = 8.1035    #normalize integrated score 0-1\n",
    "    max_consequence = 5         #normlize consquence score 0-1\n",
    "    max_liklihood   = 5         #normlize consquence score 0-1  \n",
    "\n",
    "    #normlize weights to sum to 10\n",
    "    W  = w1+w2+w3+w4 \n",
    "    w1 = 10*w1/W\n",
    "    w2 = 10*w2/W\n",
    "    w3 = 10*w3/W\n",
    "    w4 = 10*w4/W\n",
    "\n",
    "    mission                     = mission.astype(int) #Convete to ints\n",
    "    completed                   = np.clip(shortfall_matrix @ mission, a_min=None, a_max=1) #A shortfall is either completed or not\n",
    "    completed_number_score      = np.linalg.norm(completed)**2                             #Number of shortfalls completed\n",
    "    normalized_completed        = completed/completed_number_score                         #Normlizes completed array to weight each score\n",
    "\n",
    "    completed_integrated_score  = shortfall_integrated  @ normalized_completed             #Generates integrated score\n",
    "    completed_consequence_score = shortfall_consequence @ normalized_completed             #Generates the consquences score\n",
    "    completed_liklihood_score   = shortfall_liklihood   @ normalized_completed             #Generates the liklihood score\n",
    "\n",
    "    #score calculation\n",
    "    score = w1*completed_number_score/max_number + w2*completed_integrated_score/max_integrated + w3*completed_consequence_score/max_consequence + w4*completed_liklihood_score/max_liklihood\n",
    "    return -score\n"
   ]
  },
  {
   "cell_type": "markdown",
   "metadata": {},
   "source": [
    "# Setup the number of bins"
   ]
  },
  {
   "cell_type": "code",
   "execution_count": 29,
   "metadata": {},
   "outputs": [],
   "source": [
    "#setup\n",
    "num_bins = 300\n",
    "bins = np.zeros(num_bins)\n",
    "bin_val = np.array([(10/num_bins) + 10*i/num_bins for i in range(num_bins)])\n",
    "legth = len(tech_array_mod)"
   ]
  },
  {
   "cell_type": "markdown",
   "metadata": {},
   "source": [
    "# Loop through random comboniations"
   ]
  },
  {
   "cell_type": "code",
   "execution_count": null,
   "metadata": {},
   "outputs": [],
   "source": [
    "#loop 3*10^6 10min 33s\n",
    "for i in range(int(36*10**6)):\n",
    "    mission = np.random.choice([0, 1], size=legth, p=[.8, .2])\n",
    "    cur = -score_tech(mission)\n",
    "    for i in range(len(bin_val)-1):\n",
    "        if cur <= bin_val[i] and cur > bin_val[i-1]:\n",
    "            bins[i] += 1\n"
   ]
  },
  {
   "cell_type": "markdown",
   "metadata": {},
   "source": [
    "# Save to a .csv file"
   ]
  },
  {
   "cell_type": "code",
   "execution_count": 37,
   "metadata": {},
   "outputs": [],
   "source": [
    "#csv\n",
    "now = datetime.datetime.now()\n",
    "formatted_time = now.strftime(\"%d-%m-%Y_%H_%M_%S\")\n",
    "#write to csv\n",
    "with open(\"bins_tech\" + formatted_time + '.csv', 'w', newline='') as save:\n",
    "    wr = csv.writer(save)\n",
    "    wr.writerow(bin_val)\n",
    "    wr.writerow(bins)"
   ]
  }
 ],
 "metadata": {
  "kernelspec": {
   "display_name": "base",
   "language": "python",
   "name": "python3"
  },
  "language_info": {
   "codemirror_mode": {
    "name": "ipython",
    "version": 3
   },
   "file_extension": ".py",
   "mimetype": "text/x-python",
   "name": "python",
   "nbconvert_exporter": "python",
   "pygments_lexer": "ipython3",
   "version": "3.12.4"
  }
 },
 "nbformat": 4,
 "nbformat_minor": 2
}
