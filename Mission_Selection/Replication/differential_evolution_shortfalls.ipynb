{
 "cells": [
  {
   "cell_type": "markdown",
   "metadata": {},
   "source": [
    "# This implementation of the genetic algorithm for the shortfalls has the exact seed used for MATER's requriements\n",
    "\n",
    "This is meant to demonstrate replication and is not the way the this seed was found\n",
    "\n",
    "Must be run on: python 3.12.0, SciPy 1.13.1, and numpy 2.0.1"
   ]
  },
  {
   "cell_type": "code",
   "execution_count": 1,
   "metadata": {},
   "outputs": [],
   "source": [
    "%reset\n",
    "import numpy as np\n",
    "import csv\n",
    "from scipy.optimize import *\n",
    "import sys\n",
    "import matplotlib.pyplot as plt\n",
    "np.set_printoptions(threshold=sys.maxsize)\n",
    "import datetime"
   ]
  },
  {
   "cell_type": "markdown",
   "metadata": {},
   "source": [
    "# Loads in the analog payloads and the shortfall scores"
   ]
  },
  {
   "cell_type": "code",
   "execution_count": 2,
   "metadata": {},
   "outputs": [],
   "source": [
    "#import cell\n",
    "\n",
    "#tech\n",
    "tech_array = []\n",
    "\n",
    "#take data from tech csv and convert it to an array\n",
    "with open('Found_Technologies.csv', 'rt') as f:\n",
    "    array_x = csv.reader(f, skipinitialspace=True, quotechar=\"'\")\n",
    "    for line in array_x:\n",
    "        tech_array.append(line)\n",
    "\n",
    "#take data from scores tech csv and convert it to an array\n",
    "tech_score = []\n",
    "with open('Shortfalls_scores.csv', 'rt') as f:\n",
    "    array_x = csv.reader(f, skipinitialspace=True, quotechar=\"'\")\n",
    "    for line in array_x:\n",
    "        tech_score.append(line)\n",
    "\n",
    "#print(tech_score)\n"
   ]
  },
  {
   "cell_type": "markdown",
   "metadata": {},
   "source": [
    "# Prepares data from the .csv files and sets parameter values"
   ]
  },
  {
   "cell_type": "code",
   "execution_count": 4,
   "metadata": {},
   "outputs": [],
   "source": [
    "#data processing cell\n",
    "\n",
    "#Parse shortfall data \n",
    "tech_array_mod          = tech_array[1:]                                    #cut off title score\n",
    "tech_mass_array         = np.asarray([i[-1] for i in tech_array_mod],float)      #Masses of techs 0 indexed\n",
    "tech_power_array        = np.asarray([i[-2] for i in tech_array_mod],float)      #power consumption of techs 0 indexed\n",
    "shortfall_array_temp    = [np.array(i[1:-2]) for i in tech_array_mod]       \n",
    "shortfall_array         = []\n",
    "for i in shortfall_array_temp:\n",
    "    arr = []\n",
    "    for j in i:\n",
    "        s = j\n",
    "        y = \"\"\n",
    "        for char in s:\n",
    "            if char.isdigit():\n",
    "                y += char\n",
    "        num = int(y)\n",
    "        arr.append(num)\n",
    "    \n",
    "    shortfall_array.append(arr)\n",
    "\n",
    "shortfall           = np.asarray(tech_score[1:],float)\n",
    "shortfall_matrix    = np.zeros((len(shortfall_array),len(shortfall)))\n",
    "for i in range(len(shortfall_matrix)):\n",
    "    for j in shortfall_array[i]:\n",
    "        shortfall_matrix[i][j-1] = 1\n",
    "\n",
    "shortfall_matrix = np.transpose(shortfall_matrix) #matrix of shortfalls where the column are a tech and the value (0 or 1) represents of that index of a shortfall is completed\n",
    "\n",
    "shortfall_integrated    = shortfall[0:, 1]  #Scores from NASA 0 indexed\n",
    "shortfall_consequence   = shortfall[0:, 2]  #Scores from consequence axis 0 indexed\n",
    "shortfall_liklihood     = shortfall[0:, 3]  #Scores from liklihood axis 0 indexed\n",
    "\n",
    "\n",
    "beta = 185 #kg/kW Power to mass ratio\n",
    "max_mass    = 40000 #kg\n",
    "min_mass    = 15000 #kg\n",
    "mass_ratio  =  0.3 #kg"
   ]
  },
  {
   "cell_type": "markdown",
   "metadata": {},
   "source": [
    "# The score function being optimized"
   ]
  },
  {
   "cell_type": "code",
   "execution_count": 5,
   "metadata": {},
   "outputs": [],
   "source": [
    "#score function for tech\n",
    "\n",
    "def score_tech(mission, check_mass=True):\n",
    "    #weights\n",
    "    w1 = 2.3  #completed_score\n",
    "    w2 = 7  #integrated_score\n",
    "    w3 = 4  #consequence_score\n",
    "    w4 = 4  #liklihood_score\n",
    "\n",
    "    mass_max_tech = max_mass*(1-mass_ratio) #in kg\n",
    "    mass_min_tech = min_mass*(1-mass_ratio) #in kg\n",
    "\n",
    "    #Mass check\n",
    "    if check_mass and (tech_mass_array.dot(mission) + beta*tech_power_array.dot(mission) <= mass_min_tech or tech_mass_array.dot(mission) + beta*tech_power_array.dot(mission) > mass_max_tech):\n",
    "        return abs(tech_mass_array.dot(mission) + beta*tech_power_array.dot(mission))\n",
    "\n",
    "    #normlizers\n",
    "    max_number      = 93        #normalize number score 0-1 \n",
    "    max_integrated  = 8.1035    #normalize integrated score 0-1\n",
    "    max_consequence = 5         #normlize consquence score 0-1\n",
    "    max_liklihood   = 5         #normlize consquence score 0-1  \n",
    "\n",
    "    #normlize weights to sum to 10\n",
    "    W  = w1+w2+w3+w4 \n",
    "    w1 = 10*w1/W\n",
    "    w2 = 10*w2/W\n",
    "    w3 = 10*w3/W\n",
    "    w4 = 10*w4/W\n",
    "\n",
    "    mission                     = mission.astype(int) #Convete to ints\n",
    "    completed                   = np.clip(shortfall_matrix @ mission, a_min=None, a_max=1) #A shortfall is either completed or not\n",
    "    completed_number_score      = np.linalg.norm(completed)**2                             #Number of shortfalls completed\n",
    "    normalized_completed        = completed/completed_number_score                         #Normlizes completed array to weight each score\n",
    "\n",
    "    completed_integrated_score  = shortfall_integrated  @ normalized_completed             #Generates integrated score\n",
    "    completed_consequence_score = shortfall_consequence @ normalized_completed             #Generates the consquences score\n",
    "    completed_liklihood_score   = shortfall_liklihood   @ normalized_completed             #Generates the liklihood score\n",
    "\n",
    "    #score calculation\n",
    "    score = w1*completed_number_score/max_number + w2*completed_integrated_score/max_integrated + w3*completed_consequence_score/max_consequence + w4*completed_liklihood_score/max_liklihood\n",
    "    return -score\n"
   ]
  },
  {
   "cell_type": "markdown",
   "metadata": {},
   "source": [
    "# Initial Guess"
   ]
  },
  {
   "cell_type": "code",
   "execution_count": 6,
   "metadata": {},
   "outputs": [
    {
     "name": "stdout",
     "output_type": "stream",
     "text": [
      "[0. 0. 0. 0. 1. 0. 0. 0. 0. 0. 0. 0. 1. 0. 1. 0. 1. 0. 0. 0. 1. 0. 0. 0.\n",
      " 0. 0. 0. 0. 0. 0. 0. 0. 0. 0. 0. 0. 0. 0. 0. 0. 1. 0. 0. 1. 1. 0. 1. 0.\n",
      " 0. 1. 0. 1. 1. 0. 0. 0. 0. 1. 0. 0. 0. 0. 0. 0. 0. 0. 0. 0. 0. 0. 0. 0.\n",
      " 0. 0. 0. 0. 1. 0. 0. 1. 0. 1. 1. 0. 0. 0. 0. 0. 0. 0. 0. 0. 0. 0. 0. 0.\n",
      " 0. 0. 0. 0.]\n",
      "-8.051954485926398\n"
     ]
    }
   ],
   "source": [
    "scores_per_tech = np.zeros(len(tech_array)-1)\n",
    "for i in range(len(scores_per_tech)):\n",
    "    input = np.zeros(len(tech_array)-1)\n",
    "    input[i] = 1\n",
    "    scores_per_tech[i] = score_tech(input,check_mass=False)\n",
    "indcies_tech = np.argsort(scores_per_tech)\n",
    "scores_per_tech_sort = np.sort(scores_per_tech) \n",
    "\n",
    "#rint(scores_per_tech_sort)\n",
    "#print(indcies_tech)\n",
    "mass = 0\n",
    "bring_array_tech = np.zeros(len(tech_array)-1)\n",
    "for i in range(len(indcies_tech)):\n",
    "    if mass < 0.5*(max_mass+min_mass)*(1-mass_ratio):\n",
    "        bring_array_tech[indcies_tech[i]] = 1\n",
    "        mass = tech_mass_array.dot(bring_array_tech) + beta*tech_power_array.dot(bring_array_tech)\n",
    "\n",
    "print(bring_array_tech)\n",
    "print(score_tech(bring_array_tech))\n",
    "# print(mass)\n",
    "    "
   ]
  },
  {
   "cell_type": "markdown",
   "metadata": {},
   "source": [
    "# Differential Evolution call"
   ]
  },
  {
   "cell_type": "code",
   "execution_count": 7,
   "metadata": {},
   "outputs": [
    {
     "name": "stdout",
     "output_type": "stream",
     "text": [
      "             message: Optimization terminated successfully.\n",
      "             success: True\n",
      "                 fun: -8.059745523995822\n",
      "                   x: [ 1.000e+00  0.000e+00 ...  0.000e+00  0.000e+00]\n",
      "                 nit: 290\n",
      "                nfev: 595968\n",
      "          population: [[ 1.000e+00  0.000e+00 ...  0.000e+00  0.000e+00]\n",
      "                       [ 1.000e+00  1.000e+00 ...  0.000e+00  0.000e+00]\n",
      "                       ...\n",
      "                       [ 1.000e+00  0.000e+00 ...  0.000e+00  0.000e+00]\n",
      "                       [ 0.000e+00  1.000e+00 ...  0.000e+00  0.000e+00]]\n",
      " population_energies: [-8.060e+00 -7.916e+00 ... -8.023e+00 -8.017e+00]\n",
      "seed: 900937\n"
     ]
    }
   ],
   "source": [
    "#Optimizer for tech https://en.wikipedia.org/wiki/Differential_evolution https://docs.scipy.org/doc/scipy/reference/generated/scipy.optimize.differential_evolution.html#scipy.optimize.differential_evolution\n",
    "bounds_tech = Bounds(lb=np.zeros(len(shortfall_array)), ub=np.ones(len(shortfall_array)))     #we either bring or we dont\n",
    "seed = 900937 #np.random.randint(9999999)\n",
    "res_tech    = differential_evolution(func=score_tech, bounds=bounds_tech, x0=bring_array_tech,integrality=np.ones(len(tech_array)-1),updating='deferred',tol=0.01,init='sobol',popsize=16,recombination=0.05,mutation=(0.7,1.7),maxiter=100000,seed=seed)\n",
    "print(res_tech)\n",
    "print('seed: ' + str(seed))"
   ]
  },
  {
   "cell_type": "markdown",
   "metadata": {},
   "source": [
    "# Presents and saves outputs"
   ]
  },
  {
   "cell_type": "code",
   "execution_count": 8,
   "metadata": {},
   "outputs": [
    {
     "name": "stdout",
     "output_type": "stream",
     "text": [
      "For tech demos:\n",
      "\n",
      " Number of Payloads              :   32\n",
      " Mass of Mission                 :   15814.967\n",
      " Power Consumption of Mission    :   64.946\n",
      " Combined Mass of Mission        :   27829.977\n",
      " Score of Mission                :   8.06\n",
      "\n",
      " Payloads:\n",
      "     Remote Agent Architecture\n",
      "     Teleoperated Rovers\n",
      "     Virtual Camera\n",
      "     Combustion Integrated Rack (CIR)\n",
      "     perseverance Rover sensors\n",
      "     ATHLETE Rover\n",
      "     Extravehicular mobility unit\n",
      "     Electrodynamic dust shield (EDS)\n",
      "     Rover docking port\n",
      "     Mars Rover (Opportunity)\n",
      "     Wind Sensor\n",
      "     Rad Counter measures\n",
      "     Rad monitoring\n",
      "     rover payloads\n",
      "     Water management\n",
      "     Prediction Modeling of Cryogenic Fluid Dynamics and Operations\n",
      "     Dust mitigation\n",
      "     Batteries\n",
      "     MAV Prop\n",
      "     Extraction and separation of oxygen from extraterrestrial materials\n",
      "     Health monitoring for systems\n",
      "     Cryogenic liquification\n",
      "     A drill\n",
      "     Big MOXIE\n",
      "     Sensor with NPC and APC\n",
      "     Small Fission Power\n",
      "     3D EDL Sensors\n",
      "     X-Ray Communication\n",
      "     Autonomous Rover\n",
      "     Harsh environment robotics\n",
      "     Electron Emitting Film\n",
      "     Rad hard computer\n"
     ]
    }
   ],
   "source": [
    "#Presenter for tech\n",
    "\n",
    "x_tech = res_tech['x']\n",
    "x_tech = x_tech.astype(int)\n",
    "techs_brought = []\n",
    "j = 0\n",
    "mass_tech = 0\n",
    "power_tech = 0\n",
    "for i in range(len(x_tech)):\n",
    "    if x_tech[i] == 1:\n",
    "        techs_brought.append(tech_array_mod[i])\n",
    "        mass_tech += tech_mass_array[i]\n",
    "        power_tech += tech_power_array[i]\n",
    "        j += 1\n",
    "mass_tech   = round(mass_tech, 3)\n",
    "power_tech  = round(power_tech, 3)\n",
    "tech_score = round(-score_tech(x_tech), 3)\n",
    "print(\"For tech demos:\")\n",
    "print()\n",
    "print(\" Number of Payloads              :   \" + str(len(techs_brought)))\n",
    "print(\" Mass of Mission                 :   \" + str(mass_tech))\n",
    "print(\" Power Consumption of Mission    :   \" + str(power_tech))\n",
    "print(\" Combined Mass of Mission        :   \"  + str(mass_tech + beta*power_tech))\n",
    "print(\" Score of Mission                :   \" + str(tech_score))\n",
    "print()\n",
    "print(\" Payloads:\")\n",
    "for i in techs_brought:\n",
    "    print(\"     \" +i[0])\n",
    "\n",
    "now = datetime.datetime.now()\n",
    "formatted_time = now.strftime(\"%d-%m-%Y_%H_%M_%S\")\n",
    "#write to csv\n",
    "with open(\"raw_shortfall_out_\" + formatted_time + '.csv', 'w', newline='') as save:\n",
    "    wr = csv.writer(save)\n",
    "    wr.writerow([\"\", \"Name\", \"Shortfalls\", \"Power\", \"Mass\", \"Total Mass\"])\n",
    "    for i in techs_brought:\n",
    "        arr = []\n",
    "        arr.append(\"\")\n",
    "        arr.append(i[0])\n",
    "        arr.append(i[1:-2])\n",
    "        arr.append(i[-2])\n",
    "        arr.append(i[-1])\n",
    "        wr.writerow(arr)\n",
    "    wr.writerow([\"Totals\", len(techs_brought), tech_score, power_tech, mass_tech, mass_tech + beta*power_tech, 'seed:', seed])\n",
    "    "
   ]
  },
  {
   "cell_type": "code",
   "execution_count": null,
   "metadata": {},
   "outputs": [],
   "source": []
  }
 ],
 "metadata": {
  "kernelspec": {
   "display_name": "gentest",
   "language": "python",
   "name": "python3"
  },
  "language_info": {
   "codemirror_mode": {
    "name": "ipython",
    "version": 3
   },
   "file_extension": ".py",
   "mimetype": "text/x-python",
   "name": "python",
   "nbconvert_exporter": "python",
   "pygments_lexer": "ipython3",
   "version": "3.12.0"
  }
 },
 "nbformat": 4,
 "nbformat_minor": 2
}
