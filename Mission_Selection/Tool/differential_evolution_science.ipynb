{
 "cells": [
  {
   "cell_type": "markdown",
   "metadata": {},
   "source": [
    "# This implementation of the genetic algorithm for the science objectives and is how the optimal solution was fount\n",
    "\n",
    "Must be run on: python 3.12.0, SciPy 1.13.1, and numpy 2.0.1"
   ]
  },
  {
   "cell_type": "code",
   "execution_count": 29,
   "metadata": {},
   "outputs": [],
   "source": [
    "%reset\n",
    "import numpy as np\n",
    "import csv\n",
    "from scipy.optimize import *\n",
    "import sys\n",
    "import matplotlib.pyplot as plt\n",
    "np.set_printoptions(threshold=sys.maxsize)\n",
    "import datetime"
   ]
  },
  {
   "cell_type": "markdown",
   "metadata": {},
   "source": [
    "# Loads in the analog payloads and the science objective scores"
   ]
  },
  {
   "cell_type": "code",
   "execution_count": 30,
   "metadata": {},
   "outputs": [],
   "source": [
    "#import cell\n",
    "\n",
    "#science\n",
    "science_array = []\n",
    "\n",
    "#take data from experiments csv and convert it to an array\n",
    "with open('Found_Experiments.csv', 'rt') as f:\n",
    "    array_y = csv.reader(f, skipinitialspace=True, quotechar=\"'\")\n",
    "    for line in array_y:\n",
    "        science_array.append(line)\n",
    "#print(science_array)\n",
    "\n",
    "\n",
    "#take data from scores science csv and convert it to an array\n",
    "objectives_score = []\n",
    "with open('Objective_scores.csv', 'rt') as f:\n",
    "    array_x = csv.reader(f, skipinitialspace=True, quotechar=\"'\")\n",
    "    for line in array_x:\n",
    "        objectives_score.append(line)\n"
   ]
  },
  {
   "cell_type": "markdown",
   "metadata": {},
   "source": [
    "# Prepares data from the .csv files and sets parameter values"
   ]
  },
  {
   "cell_type": "code",
   "execution_count": null,
   "metadata": {},
   "outputs": [],
   "source": [
    "#data processing cell\n",
    "\n",
    "#Parse objective data\n",
    "science_array_array_mod = science_array[1:]                                         #cut off title score\n",
    "science_mass_array      = np.asarray([i[-1] for i in science_array_array_mod],float)      #Masses of experiments 0 indexed\n",
    "science_power_array     = np.asarray([i[-2] for i in science_array_array_mod],float)      #power consumption of experiments 0 indexed\n",
    "objective_array_temp    = [np.array(i[1:-2]) for i in science_array_array_mod]  \n",
    "objective_array         = []\n",
    "for i in objective_array_temp:\n",
    "    arr = []\n",
    "    for j in i:\n",
    "        s = j\n",
    "        y = \"\"\n",
    "        for char in s:\n",
    "            if char.isdigit():\n",
    "                y += char\n",
    "        num = int(y)\n",
    "        arr.append(num)\n",
    "    \n",
    "    objective_array.append(arr)\n",
    "objective           = np.array(objectives_score[1:])\n",
    "objective           = np.asarray(objective[0:, 1:],float)\n",
    "objective_matrix    = np.zeros((len(objective_array),len(objective)))\n",
    "for i in range(len(objective_matrix)):\n",
    "    for j in objective_array[i]:\n",
    "        objective_matrix[i][j-1] = 1\n",
    "\n",
    "objective_matrix = np.transpose(objective_matrix) #matrix of shortfalls where the column are a tech and the value (0 or 1) represents of that index of a shortfall is completed\n",
    "\n",
    "objective_Understanding = objective[0:, 1]\n",
    "objective_Humans        = objective[0:, 2]\n",
    "\n",
    "beta = 185 #kg/kW Power to mass ratio\n",
    "max_mass    = 40000 #kg\n",
    "min_mass    = 15000 #kg\n",
    "mass_ratio  =  0.3 #kg"
   ]
  },
  {
   "cell_type": "markdown",
   "metadata": {},
   "source": [
    "# The score function being optimized"
   ]
  },
  {
   "cell_type": "code",
   "execution_count": 32,
   "metadata": {},
   "outputs": [],
   "source": [
    "#score function for science\n",
    "\n",
    "def score_science(mission, check_mass=True):\n",
    "    #weights\n",
    "    w1 = 4  #completed_score\n",
    "    w2 = 5  #understand_score\n",
    "    w3 = 7  #human_score\n",
    "\n",
    "    mass_max_science = max_mass*mass_ratio #in kg\n",
    "    mass_min_science = min_mass*mass_ratio #in kg\n",
    "\n",
    "    #Mass check\n",
    "    if check_mass and (science_mass_array.dot(mission) + beta*science_power_array.dot(mission) <= mass_min_science or science_mass_array.dot(mission) + beta*science_power_array.dot(mission) > mass_max_science):\n",
    "        return abs(science_mass_array.dot(mission) + beta*science_power_array.dot(mission))\n",
    "\n",
    "    #normlizers\n",
    "    max_number      = 46       #normalize number score 0-1\n",
    "    max_understand  = 5        #normlize understanding score 0-1\n",
    "    max_human       = 5        #normlize human score 0-1  \n",
    "\n",
    "    #normlize weights to sum to 10\n",
    "    W  = w1+w2+w3\n",
    "    w1 = 10*w1/W\n",
    "    w2 = 10*w2/W\n",
    "    w3 = 10*w3/W\n",
    "\n",
    "    mission                     = mission.astype(int) #Convete to ints\n",
    "    completed                   = np.clip(objective_matrix @ mission, a_min=None, a_max=1) #A objective is either completed or not\n",
    "    completed_number_score      = np.linalg.norm(completed)**2                             #Number of objective completed\n",
    "    normalized_completed        = completed/completed_number_score                         #Normlizes completed array to weight each score\n",
    "\n",
    "    completed_understanding_score   = objective_Understanding @ normalized_completed       #Generates the understanding score\n",
    "    completed_human_score           = objective_Humans   @ normalized_completed            #Generates the human score\n",
    "\n",
    "    #score calculation\n",
    "    score = w1*completed_number_score/max_number + w2*completed_understanding_score/max_understand + w3*completed_human_score/max_human\n",
    "    return -score\n"
   ]
  },
  {
   "cell_type": "markdown",
   "metadata": {},
   "source": [
    "# Initial Guess"
   ]
  },
  {
   "cell_type": "code",
   "execution_count": 33,
   "metadata": {},
   "outputs": [
    {
     "name": "stdout",
     "output_type": "stream",
     "text": [
      "[0. 0. 0. 0. 0. 0. 0. 0. 0. 0. 0. 0. 0. 0. 0. 0. 0. 0. 0. 0. 1. 0. 1. 1.\n",
      " 1. 0. 1. 0. 0. 0. 0. 1. 0. 0. 0. 0. 1. 0. 0. 0. 1. 0. 0. 0. 0. 0. 0. 0.\n",
      " 0. 0. 0. 0. 0. 0. 0. 0. 0. 0. 0. 0. 0. 1. 0. 1. 0. 0. 0. 0. 1. 0. 0.]\n",
      "-7.619983277591974\n"
     ]
    }
   ],
   "source": [
    "#analyitcal solution\n",
    "scores_per_sci = np.zeros(len(science_array)-1)\n",
    "for i in range(len(scores_per_sci)):\n",
    "    input = np.zeros(len(science_array)-1)\n",
    "    input[i] = 1\n",
    "    scores_per_sci[i] = score_science(input,check_mass=False)\n",
    "indcies_tech = np.argsort(scores_per_sci)\n",
    "scores_per_tech_sort = np.sort(scores_per_sci) \n",
    "\n",
    "#rint(scores_per_tech_sort)\n",
    "#print(indcies_tech)\n",
    "mass = 0\n",
    "bring_array_science = np.zeros(len(science_array)-1)\n",
    "for i in range(len(indcies_tech)):\n",
    "    if mass < 0.5*(max_mass+min_mass)*(mass_ratio):\n",
    "        bring_array_science[indcies_tech[i]] = 1\n",
    "        mass = science_mass_array.dot(bring_array_science) + beta*science_power_array.dot(bring_array_science)\n",
    "\n",
    "print(bring_array_science)\n",
    "print(score_science(bring_array_science))\n",
    "#print(mass)\n",
    "bounds_science          = Bounds(lb=np.zeros(len(objective_array)), ub=np.ones(len(objective_array)))                                                       #we either bring or we dont"
   ]
  },
  {
   "cell_type": "markdown",
   "metadata": {},
   "source": [
    "# Trackers used to allow for multiple loops"
   ]
  },
  {
   "cell_type": "code",
   "execution_count": 34,
   "metadata": {},
   "outputs": [],
   "source": [
    "#setup\n",
    "outputs_sci = []\n",
    "scores_sci = []\n",
    "seeds_sci = []"
   ]
  },
  {
   "cell_type": "markdown",
   "metadata": {},
   "source": [
    "# Differential Evolution loop call"
   ]
  },
  {
   "cell_type": "code",
   "execution_count": null,
   "metadata": {},
   "outputs": [],
   "source": [
    "#loop 3min a loop\n",
    "for i in range(2000):\n",
    "    seed = np.random.randint(9999999)\n",
    "    seeds_sci.append(seed)\n",
    "    res_science = differential_evolution(func=score_science, bounds=bounds_science, x0=bring_array_science, integrality=np.ones(len(science_array)-1),updating='deferred',tol=0.01,init='sobol',popsize=16,recombination=0.05,mutation=(0.7,1.7),maxiter=1000,seed=seed)\n",
    "    outputs_sci.append(res_science['x'])\n",
    "    scores_sci.append(res_science['fun'])"
   ]
  },
  {
   "cell_type": "markdown",
   "metadata": {},
   "source": [
    "# Plots occurance of analog payloads"
   ]
  },
  {
   "cell_type": "code",
   "execution_count": null,
   "metadata": {},
   "outputs": [],
   "source": [
    "#precentage plotter\n",
    "percentages = np.mean(outputs_sci, axis=0) * 100\n",
    "sorted_indices = np.argsort(-percentages)\n",
    "sorted_percentages = percentages[sorted_indices]\n",
    "indices = [row[0] for row in science_array_array_mod]\n",
    "indices = [indices[i] for i in sorted_indices]\n",
    "plt.figure(figsize=(15,5))\n",
    "plt.bar(indices, sorted_percentages, color='grey')\n",
    "plt.ylabel('Occurrence Percentage')\n",
    "plt.title('Common Experiments')\n",
    "plt.xticks(indices, rotation=90, fontsize=7)\n",
    "plt.show()"
   ]
  },
  {
   "cell_type": "markdown",
   "metadata": {},
   "source": [
    "# Plots seeds with scores "
   ]
  },
  {
   "cell_type": "code",
   "execution_count": null,
   "metadata": {},
   "outputs": [],
   "source": [
    "#score plotter\n",
    "plt.figure(figsize=(20,5))\n",
    "seed_index = [str(i) for i in seeds_sci]\n",
    "plt.bar(seed_index, np.asfarray(scores_sci), color='grey')\n",
    "plt.xticks(seed_index, rotation=90, fontsize=7)\n",
    "plt.ylabel('Scores')\n",
    "plt.title('Iteration')\n",
    "plt.ylim(-7.75,-7.74)\n",
    "plt.yticks(np.arange(-7.75,-7.74,.0005),minor=True)\n",
    "plt.grid(visible=True,which='both',axis='y')\n",
    "plt.show()"
   ]
  },
  {
   "cell_type": "markdown",
   "metadata": {},
   "source": [
    "# saves data to .csv fiile"
   ]
  },
  {
   "cell_type": "code",
   "execution_count": 72,
   "metadata": {},
   "outputs": [],
   "source": [
    "now = datetime.datetime.now()\n",
    "formatted_time = now.strftime(\"%d-%m-%Y_%H_%M_%S\")\n",
    "with open(\"iterations_Experiments_to_Bring_Rebal-p32_r1_m7-17\"  + formatted_time +  '.csv', 'w', newline='') as save:\n",
    "    wr = csv.writer(save)\n",
    "    for i in range(len(scores_sci)):\n",
    "        arr = []\n",
    "        arr.append(scores_sci[i])\n",
    "        arr.append(seeds_sci[i])\n",
    "        for j in outputs_sci[i]:\n",
    "            arr.append(j)\n",
    "        wr.writerow(arr) "
   ]
  },
  {
   "cell_type": "markdown",
   "metadata": {},
   "source": [
    "# Find the best scoring seed"
   ]
  },
  {
   "cell_type": "code",
   "execution_count": null,
   "metadata": {},
   "outputs": [],
   "source": [
    "print(len(seeds_sci))\n",
    "sorted_scores = np.argsort(scores_sci)\n",
    "print(scores_sci[sorted_scores[0]])\n",
    "print(seeds_sci[sorted_scores[0]])"
   ]
  }
 ],
 "metadata": {
  "kernelspec": {
   "display_name": "base",
   "language": "python",
   "name": "python3"
  },
  "language_info": {
   "codemirror_mode": {
    "name": "ipython",
    "version": 3
   },
   "file_extension": ".py",
   "mimetype": "text/x-python",
   "name": "python",
   "nbconvert_exporter": "python",
   "pygments_lexer": "ipython3",
   "version": "3.12.4"
  }
 },
 "nbformat": 4,
 "nbformat_minor": 2
}
