{
 "cells": [
  {
   "cell_type": "markdown",
   "metadata": {},
   "source": [
    "# This implementation of the genetic algorithm for the shortfalls and is how the optimal solution was fount\n",
    "\n",
    "Must be run on: python 3.12.0, SciPy 1.13.1, and numpy 2.0.1"
   ]
  },
  {
   "cell_type": "code",
   "execution_count": 1,
   "metadata": {},
   "outputs": [],
   "source": [
    "%reset\n",
    "import numpy as np\n",
    "import csv\n",
    "from scipy.optimize import *\n",
    "import sys\n",
    "import matplotlib.pyplot as plt\n",
    "np.set_printoptions(threshold=sys.maxsize)\n",
    "import datetime"
   ]
  },
  {
   "cell_type": "markdown",
   "metadata": {},
   "source": [
    "# Loads in the analog payloads and the shortfall scores"
   ]
  },
  {
   "cell_type": "code",
   "execution_count": 2,
   "metadata": {},
   "outputs": [],
   "source": [
    "#import cell\n",
    "\n",
    "#tech\n",
    "tech_array = []\n",
    "\n",
    "#take data from tech csv and convert it to an array\n",
    "with open('Found_Technologies.csv', 'rt') as f:\n",
    "    array_x = csv.reader(f, skipinitialspace=True, quotechar=\"'\")\n",
    "    for line in array_x:\n",
    "        tech_array.append(line)\n",
    "\n",
    "\n",
    "#take data from scores tech csv and convert it to an array\n",
    "tech_score = []\n",
    "with open('Shortfalls_scores.csv', 'rt') as f:\n",
    "    array_x = csv.reader(f, skipinitialspace=True, quotechar=\"'\")\n",
    "    for line in array_x:\n",
    "        tech_score.append(line)\n",
    "\n",
    "#print(tech_score)\n",
    "\n"
   ]
  },
  {
   "cell_type": "markdown",
   "metadata": {},
   "source": [
    "# Prepares data from the .csv files and sets parameter values"
   ]
  },
  {
   "cell_type": "code",
   "execution_count": 3,
   "metadata": {},
   "outputs": [],
   "source": [
    "#data processing cell\n",
    "\n",
    "#Parse shortfall data \n",
    "tech_array_mod          = tech_array[1:]                                    #cut off title score\n",
    "tech_mass_array         = np.asfarray([i[-1] for i in tech_array_mod])      #Masses of techs 0 indexed\n",
    "tech_power_array        = np.asfarray([i[-2] for i in tech_array_mod])      #power consumption of techs 0 indexed\n",
    "shortfall_array_temp    = [np.array(i[1:-2]) for i in tech_array_mod]       \n",
    "shortfall_array         = []\n",
    "for i in shortfall_array_temp:\n",
    "    arr = []\n",
    "    for j in i:\n",
    "        s = j\n",
    "        y = \"\"\n",
    "        for char in s:\n",
    "            if char.isdigit():\n",
    "                y += char\n",
    "        num = int(y)\n",
    "        arr.append(num)\n",
    "    \n",
    "    shortfall_array.append(arr)\n",
    "\n",
    "shortfall           = np.asfarray(tech_score[1:])\n",
    "shortfall_matrix    = np.zeros((len(shortfall_array),len(shortfall)))\n",
    "for i in range(len(shortfall_matrix)):\n",
    "    for j in shortfall_array[i]:\n",
    "        shortfall_matrix[i][j-1] = 1\n",
    "\n",
    "shortfall_matrix = np.transpose(shortfall_matrix) #matrix of shortfalls where the column are a tech and the value (0 or 1) represents of that index of a shortfall is completed\n",
    "\n",
    "shortfall_integrated    = shortfall[0:, 1]  #Scores from NASA 0 indexed\n",
    "shortfall_consequence   = shortfall[0:, 2]  #Scores from consequence axis 0 indexed\n",
    "shortfall_liklihood     = shortfall[0:, 3]  #Scores from liklihood axis 0 indexed\n",
    "\n",
    "beta = 185 #kg/kW Power to mass ratio\n",
    "max_mass    = 40000 #kg\n",
    "min_mass    = 15000 #kg\n",
    "mass_ratio  =  0.3 #kg"
   ]
  },
  {
   "cell_type": "markdown",
   "metadata": {},
   "source": [
    "# The score function being optimized"
   ]
  },
  {
   "cell_type": "code",
   "execution_count": 4,
   "metadata": {},
   "outputs": [],
   "source": [
    "#score function for tech\n",
    "\n",
    "def score_tech(mission, check_mass=True):\n",
    "    #weights\n",
    "    w1 = 2.3  #completed_score\n",
    "    w2 = 7  #integrated_score\n",
    "    w3 = 4  #consequence_score\n",
    "    w4 = 4  #liklihood_score\n",
    "\n",
    "    mass_max_tech = max_mass*(1-mass_ratio) #in kg\n",
    "    mass_min_tech = min_mass*(1-mass_ratio) #in kg\n",
    "\n",
    "    #Mass check\n",
    "    if check_mass and (tech_mass_array.dot(mission) + beta*tech_power_array.dot(mission) <= mass_min_tech or tech_mass_array.dot(mission) + beta*tech_power_array.dot(mission) > mass_max_tech):\n",
    "        return abs(tech_mass_array.dot(mission) + beta*tech_power_array.dot(mission))\n",
    "\n",
    "    #normlizers\n",
    "    max_number      = 93        #normalize number score 0-1 \n",
    "    max_integrated  = 8.1035    #normalize integrated score 0-1\n",
    "    max_consequence = 5         #normlize consquence score 0-1\n",
    "    max_liklihood   = 5         #normlize consquence score 0-1  \n",
    "\n",
    "    #normlize weights to sum to 10\n",
    "    W  = w1+w2+w3+w4 \n",
    "    w1 = 10*w1/W\n",
    "    w2 = 10*w2/W\n",
    "    w3 = 10*w3/W\n",
    "    w4 = 10*w4/W\n",
    "\n",
    "    mission                     = mission.astype(int) #Convete to ints\n",
    "    completed                   = np.clip(shortfall_matrix @ mission, a_min=None, a_max=1) #A shortfall is either completed or not\n",
    "    completed_number_score      = np.linalg.norm(completed)**2                             #Number of shortfalls completed\n",
    "    normalized_completed        = completed/completed_number_score                         #Normlizes completed array to weight each score\n",
    "\n",
    "    completed_integrated_score  = shortfall_integrated  @ normalized_completed             #Generates integrated score\n",
    "    completed_consequence_score = shortfall_consequence @ normalized_completed             #Generates the consquences score\n",
    "    completed_liklihood_score   = shortfall_liklihood   @ normalized_completed             #Generates the liklihood score\n",
    "\n",
    "    #score calculation\n",
    "    score = w1*completed_number_score/max_number + w2*completed_integrated_score/max_integrated + w3*completed_consequence_score/max_consequence + w4*completed_liklihood_score/max_liklihood\n",
    "    return -score\n"
   ]
  },
  {
   "cell_type": "markdown",
   "metadata": {},
   "source": [
    "# Initial Guess"
   ]
  },
  {
   "cell_type": "code",
   "execution_count": 6,
   "metadata": {},
   "outputs": [
    {
     "name": "stdout",
     "output_type": "stream",
     "text": [
      "[0. 0. 0. 0. 1. 0. 0. 0. 0. 0. 0. 0. 1. 0. 1. 0. 1. 0. 0. 0. 1. 0. 0. 0.\n",
      " 0. 0. 0. 0. 0. 0. 0. 0. 0. 0. 0. 0. 0. 0. 0. 0. 1. 0. 0. 1. 1. 0. 1. 0.\n",
      " 0. 1. 0. 1. 1. 0. 0. 0. 0. 1. 0. 0. 0. 0. 0. 0. 0. 0. 0. 0. 0. 0. 0. 0.\n",
      " 0. 0. 0. 0. 1. 0. 0. 1. 0. 1. 1. 0. 0. 0. 0. 0. 0. 0. 0. 0. 0. 0. 0. 0.\n",
      " 0. 0. 0. 0.]\n",
      "-8.051954485926398\n"
     ]
    }
   ],
   "source": [
    "#analyitcal solution\n",
    "scores_per_tech = np.zeros(len(tech_array)-1)\n",
    "for i in range(len(scores_per_tech)):\n",
    "    input = np.zeros(len(tech_array)-1)\n",
    "    input[i] = 1\n",
    "    scores_per_tech[i] = score_tech(input,check_mass=False)\n",
    "indcies_tech = np.argsort(scores_per_tech)\n",
    "scores_per_tech_sort = np.sort(scores_per_tech) \n",
    "\n",
    "#rint(scores_per_tech_sort)\n",
    "#print(indcies_tech)\n",
    "mass = 0\n",
    "bring_array_tech = np.zeros(len(tech_array)-1)\n",
    "for i in range(len(indcies_tech)):\n",
    "    if mass < 0.5*(max_mass+min_mass)*(1-mass_ratio):\n",
    "        bring_array_tech[indcies_tech[i]] = 1\n",
    "        mass = tech_mass_array.dot(bring_array_tech) + beta*tech_power_array.dot(bring_array_tech)\n",
    "\n",
    "print(bring_array_tech)\n",
    "print(score_tech(bring_array_tech))\n",
    "bounds_tech = Bounds(lb=np.zeros(len(shortfall_array)), ub=np.ones(len(shortfall_array)))     #we either bring or we dont\n",
    "# print(mass)\n",
    "    "
   ]
  },
  {
   "cell_type": "markdown",
   "metadata": {},
   "source": [
    "# Trackers used to allow for multiple loops"
   ]
  },
  {
   "cell_type": "code",
   "execution_count": null,
   "metadata": {},
   "outputs": [],
   "source": [
    "#setup\n",
    "outputs_tech = []\n",
    "scores_tech = []\n",
    "seeds_tech = []"
   ]
  },
  {
   "cell_type": "markdown",
   "metadata": {},
   "source": [
    "# Differential Evolution loop call"
   ]
  },
  {
   "cell_type": "code",
   "execution_count": null,
   "metadata": {},
   "outputs": [],
   "source": [
    "#loop 1 min a loop\n",
    "for i in range(2000):\n",
    "    seed = np.random.randint(9999999)\n",
    "    seeds_tech.append(seed)\n",
    "    res_tech    = differential_evolution(func=score_tech, bounds=bounds_tech, x0=bring_array_tech,integrality=np.ones(len(tech_array)-1),updating='deferred',tol=0.01,init='sobol',popsize=16,recombination=0.05,mutation=(0.7,1.7),maxiter=300,seed=seed)\n",
    "    outputs_tech.append(res_tech['x'])\n",
    "    scores_tech.append(res_tech['fun'])\n",
    "    "
   ]
  },
  {
   "cell_type": "markdown",
   "metadata": {},
   "source": [
    "# Plots occurance of analog payloads"
   ]
  },
  {
   "cell_type": "code",
   "execution_count": null,
   "metadata": {},
   "outputs": [],
   "source": [
    "#precentage plotter\n",
    "percentages = np.mean(outputs_tech, axis=0) * 100\n",
    "sorted_indices = np.argsort(-percentages)\n",
    "sorted_percentages = percentages[sorted_indices]\n",
    "indices = [row[0] for row in tech_array_mod]\n",
    "indices = [indices[i] for i in sorted_indices]\n",
    "plt.figure(figsize=(15,5))\n",
    "plt.bar(indices, sorted_percentages, color='grey')\n",
    "plt.ylabel('Occurrence Percentage')\n",
    "plt.title('Common technologies')\n",
    "plt.xticks(indices, rotation=90, fontsize=7)\n",
    "plt.show()"
   ]
  },
  {
   "cell_type": "markdown",
   "metadata": {},
   "source": [
    "# Plots seeds with scores "
   ]
  },
  {
   "cell_type": "code",
   "execution_count": null,
   "metadata": {},
   "outputs": [],
   "source": [
    "#score plotter\n",
    "plt.figure(figsize=(20,5))\n",
    "seed_index = [str(i) for i in seeds_tech]\n",
    "plt.bar(seed_index, np.asfarray(scores_tech), color='grey')\n",
    "plt.xticks(seed_index, rotation=90, fontsize=5)\n",
    "plt.ylabel('Scores')\n",
    "plt.title('Iteration')\n",
    "plt.ylim(-8.065,-8.05)\n",
    "plt.yticks(np.arange(-8.065,-8.05,.0005),minor=True)\n",
    "plt.grid(visible=True,which='both',axis='y')\n",
    "plt.show()"
   ]
  },
  {
   "cell_type": "markdown",
   "metadata": {},
   "source": [
    "# saves data to .csv fiile"
   ]
  },
  {
   "cell_type": "code",
   "execution_count": 111,
   "metadata": {},
   "outputs": [],
   "source": [
    "now = datetime.datetime.now()\n",
    "formatted_time = now.strftime(\"%d-%m-%Y_%H_%M_%S\")\n",
    "#write to csv\n",
    "with open(\"Iterations_Tech_deferred_tol01_sobol_guess\" + formatted_time + '.csv', 'w', newline='') as save:\n",
    "    wr = csv.writer(save)\n",
    "    for i in range(len(scores_tech)):\n",
    "        arr = []\n",
    "        arr.append(scores_tech[i])\n",
    "        arr.append(seeds_tech[i])\n",
    "        for j in outputs_tech[i]:\n",
    "            arr.append(j)\n",
    "        wr.writerow(arr) "
   ]
  },
  {
   "cell_type": "markdown",
   "metadata": {},
   "source": [
    "# Find the best scoring seed"
   ]
  },
  {
   "cell_type": "code",
   "execution_count": null,
   "metadata": {},
   "outputs": [],
   "source": [
    "print(len(seeds_tech))\n",
    "sorted_scores = np.argsort(scores_tech)\n",
    "print(scores_tech[sorted_scores[0]])\n",
    "print(seeds_tech[sorted_scores[0]])"
   ]
  }
 ],
 "metadata": {
  "kernelspec": {
   "display_name": "base",
   "language": "python",
   "name": "python3"
  },
  "language_info": {
   "codemirror_mode": {
    "name": "ipython",
    "version": 3
   },
   "file_extension": ".py",
   "mimetype": "text/x-python",
   "name": "python",
   "nbconvert_exporter": "python",
   "pygments_lexer": "ipython3",
   "version": "3.12.4"
  }
 },
 "nbformat": 4,
 "nbformat_minor": 2
}
